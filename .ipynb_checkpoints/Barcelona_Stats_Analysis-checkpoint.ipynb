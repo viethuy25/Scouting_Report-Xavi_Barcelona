{
 "cells": [
  {
   "cell_type": "code",
   "execution_count": 1,
   "metadata": {},
   "outputs": [],
   "source": [
    "import pandas as pandasd\n",
    "import numpy as np\n",
    "from urllib.request import Request, urlopen\n",
    "from bs4 import BeautifulSoup\n",
    "\n",
    "import requests\n",
    "import json"
   ]
  },
  {
   "cell_type": "markdown",
   "metadata": {},
   "source": [
    "# Crawl data from FBref.com"
   ]
  },
  {
   "cell_type": "code",
   "execution_count": 66,
   "metadata": {},
   "outputs": [
    {
     "name": "stdout",
     "output_type": "stream",
     "text": [
      "['Robert Lewandowski', 'FW', '34-053', '8', '7', '628', '7.0', '9', '2', '9', '0', '0', '0', '0', '1.29', '0.29', '1.58', '1.29', '1.58', '7.7', '7.7', '1.7', '9.4', '1.11', '0.25', '1.35', '1.11', '1.35', 'Matches']\n"
     ]
    }
   ],
   "source": [
    "def craw_data(season):\n",
    "    url = \"https://fbref.com/en/squads/206d90db/{}/all_comps/Barcelona-Stats-All-Competitions\".format(season)# this is the HTML from the given URL\n",
    "    html = urlopen(url)\n",
    "    soup = BeautifulSoup(html)\n",
    "    \n",
    "    # our targetted table id: stats_standard_combined\n",
    "    table = soup.find('table', {'id' :'stats_standard_12'})\n",
    "    \n",
    "    #get headers column name, we only care about the total stats, not per 90, also nationality is irrelevant\n",
    "    col_name = [th.string for th in table.find_all('th')[8:23]] + [th.string for th in table.find_all('th')[29:32]]\n",
    "    col_name.pop(1)\n",
    "    \n",
    "    #get players data\n",
    "    rows = table.find_all('tr')[2:]\n",
    "    # last 2 rows are Squad and Opponent Total, doesnt need here\n",
    "    rows = rows[:len(rows) - 2]\n",
    "    player_data = []\n",
    "    for row in rows[1:]:\n",
    "        player = [row.th.string]\n",
    "        \n",
    "        count = 0\n",
    "        for t_data in row.find_all('td')[1:]:\n",
    "            not_interested_col = [14,15,16,17,18,23,24,25,26,27]\n",
    "#             if (count not in not_interested_col):\n",
    "            player.append(t_data.string)\n",
    "                \n",
    "        print (player)\n",
    "        break\n",
    "#         if row['aria-label'] == Player:  # skip first title row\n",
    "#             continue\n",
    "        \n",
    "#         data = []\n",
    "#         for td in row.find_all('td'):\n",
    "#             if (len(td.contents) > 1):\n",
    "#                 data.append(td.contents[0].string)\n",
    "#             else:\n",
    "#                 data.append(td.string)\n",
    "            \n",
    "#         data.append(year)\n",
    "#         player_data.append(data)\n",
    "        \n",
    "#     stats = pd.DataFrame(data = player_data, columns = col_name)\n",
    "    \n",
    "    return \n",
    "\n",
    "data = craw_data(2022-2023)"
   ]
  },
  {
   "cell_type": "code",
   "execution_count": 11,
   "metadata": {},
   "outputs": [
    {
     "name": "stdout",
     "output_type": "stream",
     "text": [
      "['Player', 'Playing Time', 'Performance', 'Per 90 Minutes', 'Expected', 'Per 90 Minutes', None]\n"
     ]
    }
   ],
   "source": [
    "data = craw_data(2022-2023)\n",
    "\n",
    "# data"
   ]
  },
  {
   "cell_type": "code",
   "execution_count": null,
   "metadata": {},
   "outputs": [],
   "source": []
  }
 ],
 "metadata": {
  "kernelspec": {
   "display_name": "Python 3",
   "language": "python",
   "name": "python3"
  },
  "language_info": {
   "codemirror_mode": {
    "name": "ipython",
    "version": 3
   },
   "file_extension": ".py",
   "mimetype": "text/x-python",
   "name": "python",
   "nbconvert_exporter": "python",
   "pygments_lexer": "ipython3",
   "version": "3.7.6"
  }
 },
 "nbformat": 4,
 "nbformat_minor": 4
}
